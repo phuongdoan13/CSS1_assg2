{
  "nbformat": 4,
  "nbformat_minor": 0,
  "metadata": {
    "colab": {
      "name": "CSS1_assg2_Youtube.ipynb",
      "provenance": [],
      "collapsed_sections": []
    },
    "kernelspec": {
      "name": "python3",
      "display_name": "Python 3"
    }
  },
  "cells": [
    {
      "cell_type": "markdown",
      "metadata": {
        "id": "d8hUYbm5eDN1",
        "colab_type": "text"
      },
      "source": [
        "# Computer Science Studio 1 - Assignment 2\n",
        "\n",
        "---\n",
        "\n",
        "\n",
        "\n",
        "**Topic**: *Link Prediction Methods and Their Accuracy for Different Social Networks and Network Metrics*\n",
        "\n"
      ]
    },
    {
      "cell_type": "code",
      "metadata": {
        "id": "XZG14lZhaIoS",
        "colab_type": "code",
        "colab": {}
      },
      "source": [
        "# Libraries\n",
        "import pandas as pd\n",
        "import matplotlib.pyplot as plt\n",
        "import networkx as nx\n",
        "import numpy as np\n",
        "import random\n",
        "from sklearn import metrics\n",
        "from google.colab import drive\n",
        "from datetime import datetime\n",
        "from scipy.stats import pearsonr\n",
        "import matplotlib.pyplot as plt\n",
        "drive.mount('/content/gdrive')"
      ],
      "execution_count": 0,
      "outputs": []
    },
    {
      "cell_type": "markdown",
      "metadata": {
        "id": "Cax6WMmS_Mjm",
        "colab_type": "text"
      },
      "source": [
        "# 1. Import dataset"
      ]
    },
    {
      "cell_type": "code",
      "metadata": {
        "id": "Ah4OiAxLaSE8",
        "colab_type": "code",
        "colab": {}
      },
      "source": [
        "# Youtube\n",
        "df = pd.read_csv('youtube_friendship.txt', sep=\" \", names = ['u', 'v', 'useless', 'timestamp']).drop(columns = ['useless'])\n",
        "df['timestamp'] = df['timestamp'].apply(lambda x: datetime.strptime(datetime.utcfromtimestamp(int(x)).strftime('%Y-%m-%d'), '%Y-%m-%d'))"
      ],
      "execution_count": 0,
      "outputs": []
    },
    {
      "cell_type": "code",
      "metadata": {
        "id": "iPsswVZiPbSw",
        "colab_type": "code",
        "colab": {}
      },
      "source": [
        "df.timestamp.unique()"
      ],
      "execution_count": 0,
      "outputs": []
    },
    {
      "cell_type": "code",
      "metadata": {
        "id": "ACysT_8oqzUn",
        "colab_type": "code",
        "colab": {}
      },
      "source": [
        "org_train = df[df['timestamp'] < datetime.strptime('2007-07-01', '%Y-%m-%d')].drop(columns = ['timestamp'])\n",
        "org_test = df[df['timestamp'] >= datetime.strptime('2007-07-01', '%Y-%m-%d')].drop(columns = ['timestamp'])\n",
        "del df"
      ],
      "execution_count": 0,
      "outputs": []
    },
    {
      "cell_type": "code",
      "metadata": {
        "id": "vzDENhQWUj3F",
        "colab_type": "code",
        "outputId": "3941e5a5-8750-4fbf-c919-2d16e30b6d3b",
        "colab": {
          "base_uri": "https://localhost:8080/",
          "height": 52
        }
      },
      "source": [
        "print(\"org_train shape \" + str(org_train.shape))\n",
        "print(\"org_test shape \" + str(org_test.shape))"
      ],
      "execution_count": 0,
      "outputs": [
        {
          "output_type": "stream",
          "text": [
            "org_train shape (7710599, 2)\n",
            "org_test shape (1664775, 2)\n"
          ],
          "name": "stdout"
        }
      ]
    },
    {
      "cell_type": "markdown",
      "metadata": {
        "id": "5UQ36XtRGv94",
        "colab_type": "text"
      },
      "source": [
        "# 2. Preprocessing\n"
      ]
    },
    {
      "cell_type": "code",
      "metadata": {
        "id": "miyH9aIXghYW",
        "colab_type": "code",
        "colab": {}
      },
      "source": [
        "def create_graph(df, un_graph = True): # returns nx.graph or nx.DiGraph\n",
        "  \"\"\"\n",
        "   Create a graph from df_test_set\n",
        "  \"\"\"\n",
        "  if(un_graph == True):\n",
        "    G = nx.from_pandas_edgelist(df, source = 'u', target = 'v', create_using = nx.Graph)\n",
        "  else:\n",
        "    G = nx.from_pandas_edgelist(df, source = 'u', target = 'v', create_using = nx.DiGraph)\n",
        "  return G\n",
        "\n",
        "def create_largest_component(df): #return graph, dataframe\n",
        "  ## Create largest_component_graph (aka largest connected subgraph) ##\n",
        "  \n",
        "  # List of nodes of the largest_connected_subgraph (aka largest_component)\n",
        "  largest_component_nodes = list(max(nx.connected_components(create_graph(df)), key=len)) \n",
        "  # List of edges of the largest_connected_subgraph (aka largest_component) from df\n",
        "  largest_component_edges =  df[df['u'].isin(largest_component_nodes) & df['v'].isin(largest_component_nodes)]\n",
        "  # Create largest_connected_subgraph \n",
        "  largest_component_graph = create_graph(largest_component_edges)\n",
        "  return largest_component_graph, largest_component_edges\n",
        "\n",
        "def get_selected_graph(G, G_edges, number_of_nodes, un_graph = True):\n",
        "  random.seed(1)\n",
        "  node_list = random.sample(G.nodes, number_of_nodes)\n",
        "\n",
        "  edge_list = G_edges[G_edges['u'].isin(node_list) & G_edges['v'].isin(node_list)]\n",
        "\n",
        "  if(un_graph == True):\n",
        "    selected_G = nx.from_pandas_edgelist(edge_list, source = 'u', target = 'v', create_using = nx.Graph)\n",
        "  else:\n",
        "    selected_G = nx.from_pandas_edgelist(edge_list, source = 'u', target = 'v', create_using = nx.DiGraph)\n",
        "\n",
        "  return selected_G, edge_list\n",
        "\n",
        "def get_nonEdge_and_test(selected_G, original_test_set, un_graph = True): # returns dataframe, dataframe\n",
        "  ## Get nonEdge and test dataframe\n",
        "  ## nonEdge: dataframe containing the non-exist edges at the training time.\n",
        "  ## test: dataframe containing the edge in nonEdge. exist = 1 for exist in df_test_set, 0 for not exist in df_test_set \n",
        "\n",
        "  # Get only edges exisiting in G from original_test_set\n",
        "  test_set = original_test_set[original_test_set['u'].isin(selected_G.nodes) & original_test_set['v'].isin(selected_G.nodes)]\n",
        "  # Get the original non_edge\n",
        "  non_edge = pd.DataFrame(list(nx.non_edges(selected_G)), columns=['u', 'v'])\n",
        "  \n",
        "  test_set = pd.merge(non_edge, test_set, on=['u','v'], how='left', indicator='exist')\n",
        "  test_set['exist'] = np.where(test_set['exist'] == 'both', 1, 0)\n",
        "  return test_set"
      ],
      "execution_count": 0,
      "outputs": []
    },
    {
      "cell_type": "code",
      "metadata": {
        "id": "MMnNzduo21w7",
        "colab_type": "code",
        "outputId": "13b5884e-0c53-4d2a-a8ea-01ae343aa5ea",
        "colab": {
          "base_uri": "https://localhost:8080/",
          "height": 34
        }
      },
      "source": [
        "G = create_graph(org_train)\n",
        "print(\"Is G connected? \" + str(nx.is_connected(G)))"
      ],
      "execution_count": 0,
      "outputs": [
        {
          "output_type": "stream",
          "text": [
            "Is G connected? False\n"
          ],
          "name": "stdout"
        }
      ]
    },
    {
      "cell_type": "code",
      "metadata": {
        "id": "cBgwsrvO1E4N",
        "colab_type": "code",
        "outputId": "1f1342ed-232f-4665-b1f4-6b264ca76851",
        "colab": {
          "base_uri": "https://localhost:8080/",
          "height": 122
        }
      },
      "source": [
        "randomG, randomG_edges = get_selected_graph(G, org_train, 100000, un_graph = True)\n",
        "print(nx.info(randomG))\n",
        "print(\"Is randomG connected? \" + str(nx.is_connected(randomG)))\n",
        "del G\n",
        "del randomG"
      ],
      "execution_count": 0,
      "outputs": [
        {
          "output_type": "stream",
          "text": [
            "Name: \n",
            "Type: Graph\n",
            "Number of nodes: 10807\n",
            "Number of edges: 9473\n",
            "Average degree:   1.7531\n",
            "Is randomG connected? False\n"
          ],
          "name": "stdout"
        }
      ]
    },
    {
      "cell_type": "code",
      "metadata": {
        "id": "fYIqlBb_i-RE",
        "colab_type": "code",
        "outputId": "aab41211-c132-483c-b011-23413259e1aa",
        "colab": {
          "base_uri": "https://localhost:8080/",
          "height": 122
        }
      },
      "source": [
        "subG_lc, subG_lc_edges = create_largest_component(randomG_edges)\n",
        "#del org_train\n",
        "print(\"Information of the largest component \")\n",
        "print(nx.info(subG_lc))"
      ],
      "execution_count": 0,
      "outputs": [
        {
          "output_type": "stream",
          "text": [
            "Information of the largest component \n",
            "Name: \n",
            "Type: Graph\n",
            "Number of nodes: 5650\n",
            "Number of edges: 6560\n",
            "Average degree:   2.3221\n"
          ],
          "name": "stdout"
        }
      ]
    },
    {
      "cell_type": "code",
      "metadata": {
        "id": "cPv_au_jkiyV",
        "colab_type": "code",
        "outputId": "e4c80353-6bc7-48d1-9264-06aeb3a88f16",
        "colab": {
          "base_uri": "https://localhost:8080/",
          "height": 34
        }
      },
      "source": [
        "nx.is_connected(subG_lc)"
      ],
      "execution_count": 0,
      "outputs": [
        {
          "output_type": "execute_result",
          "data": {
            "text/plain": [
              "True"
            ]
          },
          "metadata": {
            "tags": []
          },
          "execution_count": 28
        }
      ]
    },
    {
      "cell_type": "code",
      "metadata": {
        "id": "UjZcKGnESUoX",
        "colab_type": "code",
        "colab": {}
      },
      "source": [
        "validate = get_nonEdge_and_test(subG_lc, org_test)\n",
        "#del org_test"
      ],
      "execution_count": 0,
      "outputs": []
    },
    {
      "cell_type": "code",
      "metadata": {
        "id": "VVgI9Koqep6l",
        "colab_type": "code",
        "outputId": "9c1625ac-0fd0-480d-bc21-5a3337932b51",
        "colab": {
          "base_uri": "https://localhost:8080/",
          "height": 34
        }
      },
      "source": [
        "validate['exist'].value_counts()[1]"
      ],
      "execution_count": 0,
      "outputs": [
        {
          "output_type": "execute_result",
          "data": {
            "text/plain": [
              "179"
            ]
          },
          "metadata": {
            "tags": []
          },
          "execution_count": 53
        }
      ]
    },
    {
      "cell_type": "code",
      "metadata": {
        "id": "NuOSIgbkTBAm",
        "colab_type": "code",
        "colab": {}
      },
      "source": [
        "#cn = nx.common_neighbors(subG_lc, validate[['u','v']].values.tolist())\n",
        "#validate['cn'] = [score for u, v, score in cn]\n",
        "aa = nx.adamic_adar_index(subG_lc, validate[['u','v']].values.tolist())\n",
        "validate['aa'] = [score for u, v, score in aa]\n",
        "pa = nx.preferential_attachment(subG_lc, validate[['u','v']].values.tolist())\n",
        "validate['pa'] = [score for u, v, score in pa]\n",
        "jc = nx.jaccard_coefficient(subG_lc, validate[['u','v']].values.tolist())\n",
        "validate['jc'] = [score for u, v, score in jc]"
      ],
      "execution_count": 0,
      "outputs": []
    },
    {
      "cell_type": "code",
      "metadata": {
        "id": "3Oe1sLzdkgHg",
        "colab_type": "code",
        "outputId": "2f9d6c41-acfb-474f-b0e4-ac40dc963ef6",
        "colab": {
          "base_uri": "https://localhost:8080/",
          "height": 34
        }
      },
      "source": [
        "validate['exist'].value_counts()[1]"
      ],
      "execution_count": 0,
      "outputs": [
        {
          "output_type": "execute_result",
          "data": {
            "text/plain": [
              "135"
            ]
          },
          "metadata": {
            "tags": []
          },
          "execution_count": 14
        }
      ]
    },
    {
      "cell_type": "code",
      "metadata": {
        "id": "Ih2SubuMqPiO",
        "colab_type": "code",
        "colab": {}
      },
      "source": [
        "def get_auc(validate):\n",
        "  topN = validate['exist'].value_counts()[1]\n",
        "  pred = [1]*topN +[0]*validate['exist'].value_counts()[0]\n",
        "  \n",
        "  # Common neighbours\n",
        "  #validate = validate.sort_values(by='cn', ascending=False)\n",
        "  #validate['pred_cn'] = pred\n",
        "  #fpr, tpr, _ = metrics.roc_curve(validate['exist'], validate['pred_cn'], pos_label=1)\n",
        "  #auc_cn = metrics.auc(fpr, tpr)\n",
        "\n",
        "  # Adamic Adar\n",
        "  validate = validate.sort_values(by='aa', ascending=False)\n",
        "  validate['pred_aa'] = pred\n",
        "  fpr, tpr, _ = metrics.roc_curve(validate['exist'], validate['pred_aa'], pos_label=1)\n",
        "  auc_aa = metrics.auc(fpr, tpr)\n",
        "  # Preferential attachment\n",
        "  validate = validate.sort_values(by='pa', ascending=False)\n",
        "  validate['pred_pa'] = pred\n",
        "  fpr, tpr, _ = metrics.roc_curve(validate['exist'], validate['pred_pa'], pos_label=1)\n",
        "  auc_pa = metrics.auc(fpr, tpr)\n",
        "  # Jaccard Coefficient\n",
        "  validate = validate.sort_values(by='jc', ascending=False)\n",
        "  validate['pred_jc'] = pred\n",
        "  fpr, tpr, _ = metrics.roc_curve(validate['exist'], validate['pred_jc'], pos_label=1)\n",
        "  auc_jc = metrics.auc(fpr, tpr)\n",
        "  return validate, auc_aa, auc_pa, auc_jc"
      ],
      "execution_count": 0,
      "outputs": []
    },
    {
      "cell_type": "code",
      "metadata": {
        "id": "A6wG8LX-9whr",
        "colab_type": "code",
        "outputId": "9640ec63-5012-44ef-b779-74c0dc0a4e65",
        "colab": {
          "base_uri": "https://localhost:8080/",
          "height": 228
        }
      },
      "source": [
        "validate['jc'].value_counts()\n",
        "# report on those problems that I found\n",
        "# confusion matrix"
      ],
      "execution_count": 0,
      "outputs": [
        {
          "output_type": "execute_result",
          "data": {
            "text/plain": [
              "0.000000    15583348\n",
              "1.000000      209822\n",
              "0.500000       70776\n",
              "0.333333       28680\n",
              "0.250000        9812\n",
              "              ...   \n",
              "0.006452           1\n",
              "0.027397           1\n",
              "0.002924           1\n",
              "0.015228           1\n",
              "0.026667           1\n",
              "Name: jc, Length: 381, dtype: int64"
            ]
          },
          "metadata": {
            "tags": []
          },
          "execution_count": 16
        }
      ]
    },
    {
      "cell_type": "code",
      "metadata": {
        "id": "y4ixjvSNDpx_",
        "colab_type": "code",
        "colab": {}
      },
      "source": [
        "validate, auc_aa, auc_pa, auc_jc = get_auc(validate)"
      ],
      "execution_count": 0,
      "outputs": []
    },
    {
      "cell_type": "code",
      "metadata": {
        "id": "27-whQPo9VBg",
        "colab_type": "code",
        "outputId": "5ef5dd71-3acb-4dff-d42b-93dff05e8518",
        "colab": {
          "base_uri": "https://localhost:8080/",
          "height": 34
        }
      },
      "source": [
        "print(auc_aa, auc_pa, auc_jc)"
      ],
      "execution_count": 0,
      "outputs": [
        {
          "output_type": "stream",
          "text": [
            "0.5074032385805779 0.5148107086771107 0.4999957684840453\n"
          ],
          "name": "stdout"
        }
      ]
    },
    {
      "cell_type": "code",
      "metadata": {
        "id": "gUDV953noS9W",
        "colab_type": "code",
        "colab": {}
      },
      "source": [
        " GCC = nx.transitivity(G)\n",
        " print(GCC)\n"
      ],
      "execution_count": 0,
      "outputs": []
    },
    {
      "cell_type": "code",
      "metadata": {
        "id": "VbYYZDkMoZ1o",
        "colab_type": "code",
        "outputId": "9096d363-1fdb-4f0a-dccf-88e84fba384c",
        "colab": {
          "base_uri": "https://localhost:8080/",
          "height": 34
        }
      },
      "source": [
        " ASP = nx.average_shortest_path_length(G)\n",
        " print(ASP)"
      ],
      "execution_count": 0,
      "outputs": [
        {
          "output_type": "stream",
          "text": [
            "6.279193781058764\n"
          ],
          "name": "stdout"
        }
      ]
    },
    {
      "cell_type": "code",
      "metadata": {
        "id": "Y3I8efZipDch",
        "colab_type": "code",
        "outputId": "a437f521-9784-4f3d-c0cc-fb097353c0a5",
        "colab": {
          "base_uri": "https://localhost:8080/",
          "height": 34
        }
      },
      "source": [
        "density = nx.density(G)\n",
        "print(density)"
      ],
      "execution_count": 0,
      "outputs": [
        {
          "output_type": "stream",
          "text": [
            "0.000514392532759868\n"
          ],
          "name": "stdout"
        }
      ]
    },
    {
      "cell_type": "code",
      "metadata": {
        "id": "7VKJWHX_uMx0",
        "colab_type": "code",
        "colab": {}
      },
      "source": [
        "# \n",
        "cn_acc = metrics.accuracy_score(validate['exist'], validate['pred_cn']) \n",
        "aa_acc = metrics.accuracy_score(validate['exist'], validate['pred_aa']) \n",
        "jc_acc = metrics.accuracy_score(validate['exist'], validate['pred_jc']) \n",
        "pa_acc = metrics.accuracy_score(validate['exist'], validate['pred_pa']) \n",
        "\n",
        "# Confusion matrix\n",
        "cn_confusion = pd.crosstab(validate['exist'], validate['pred_cn'], rownames=['Actual'], colnames=['cn_Predicted'], margins=True)\n",
        "aa_confusion = pd.crosstab(validate['exist'], validate['pred_aa'], rownames=['Actual'], colnames=['aa_Predicted'], margins=True)\n",
        "jc_confusion = pd.crosstab(validate['exist'], validate['pred_jc'], rownames=['Actual'], colnames=['jc_Predicted'], margins=True)\n",
        "pa_confusion = pd.crosstab(validate['exist'], validate['pred_pa'], rownames=['Actual'], colnames=['pa_Predicted'], margins=True)"
      ],
      "execution_count": 0,
      "outputs": []
    },
    {
      "cell_type": "code",
      "metadata": {
        "id": "VD8dLr0cvtjT",
        "colab_type": "code",
        "outputId": "a2884565-0a92-424b-abfe-cccadc4b7893",
        "colab": {
          "base_uri": "https://localhost:8080/",
          "height": 183
        }
      },
      "source": [
        "print(aa_acc)\n",
        "aa_confusion"
      ],
      "execution_count": 0,
      "outputs": [
        {
          "output_type": "stream",
          "text": [
            "0.9999833248338047\n"
          ],
          "name": "stdout"
        },
        {
          "output_type": "execute_result",
          "data": {
            "text/html": [
              "<div>\n",
              "<style scoped>\n",
              "    .dataframe tbody tr th:only-of-type {\n",
              "        vertical-align: middle;\n",
              "    }\n",
              "\n",
              "    .dataframe tbody tr th {\n",
              "        vertical-align: top;\n",
              "    }\n",
              "\n",
              "    .dataframe thead th {\n",
              "        text-align: right;\n",
              "    }\n",
              "</style>\n",
              "<table border=\"1\" class=\"dataframe\">\n",
              "  <thead>\n",
              "    <tr style=\"text-align: right;\">\n",
              "      <th>aa_Predicted</th>\n",
              "      <th>0</th>\n",
              "      <th>1</th>\n",
              "      <th>All</th>\n",
              "    </tr>\n",
              "    <tr>\n",
              "      <th>Actual</th>\n",
              "      <th></th>\n",
              "      <th></th>\n",
              "      <th></th>\n",
              "    </tr>\n",
              "  </thead>\n",
              "  <tbody>\n",
              "    <tr>\n",
              "      <th>0</th>\n",
              "      <td>15951597</td>\n",
              "      <td>133</td>\n",
              "      <td>15951730</td>\n",
              "    </tr>\n",
              "    <tr>\n",
              "      <th>1</th>\n",
              "      <td>133</td>\n",
              "      <td>2</td>\n",
              "      <td>135</td>\n",
              "    </tr>\n",
              "    <tr>\n",
              "      <th>All</th>\n",
              "      <td>15951730</td>\n",
              "      <td>135</td>\n",
              "      <td>15951865</td>\n",
              "    </tr>\n",
              "  </tbody>\n",
              "</table>\n",
              "</div>"
            ],
            "text/plain": [
              "aa_Predicted         0    1       All\n",
              "Actual                               \n",
              "0             15951597  133  15951730\n",
              "1                  133    2       135\n",
              "All           15951730  135  15951865"
            ]
          },
          "metadata": {
            "tags": []
          },
          "execution_count": 39
        }
      ]
    },
    {
      "cell_type": "code",
      "metadata": {
        "id": "g1Jz7rJLLOj2",
        "colab_type": "code",
        "outputId": "475b6eb5-7846-4337-f371-ee630f5060bd",
        "colab": {
          "base_uri": "https://localhost:8080/",
          "height": 183
        }
      },
      "source": [
        "print(jc_acc)\n",
        "jc_confusion"
      ],
      "execution_count": 0,
      "outputs": [
        {
          "output_type": "stream",
          "text": [
            "0.9999830740794258\n"
          ],
          "name": "stdout"
        },
        {
          "output_type": "execute_result",
          "data": {
            "text/html": [
              "<div>\n",
              "<style scoped>\n",
              "    .dataframe tbody tr th:only-of-type {\n",
              "        vertical-align: middle;\n",
              "    }\n",
              "\n",
              "    .dataframe tbody tr th {\n",
              "        vertical-align: top;\n",
              "    }\n",
              "\n",
              "    .dataframe thead th {\n",
              "        text-align: right;\n",
              "    }\n",
              "</style>\n",
              "<table border=\"1\" class=\"dataframe\">\n",
              "  <thead>\n",
              "    <tr style=\"text-align: right;\">\n",
              "      <th>jc_Predicted</th>\n",
              "      <th>0</th>\n",
              "      <th>1</th>\n",
              "      <th>All</th>\n",
              "    </tr>\n",
              "    <tr>\n",
              "      <th>Actual</th>\n",
              "      <th></th>\n",
              "      <th></th>\n",
              "      <th></th>\n",
              "    </tr>\n",
              "  </thead>\n",
              "  <tbody>\n",
              "    <tr>\n",
              "      <th>0</th>\n",
              "      <td>15951595</td>\n",
              "      <td>135</td>\n",
              "      <td>15951730</td>\n",
              "    </tr>\n",
              "    <tr>\n",
              "      <th>1</th>\n",
              "      <td>135</td>\n",
              "      <td>0</td>\n",
              "      <td>135</td>\n",
              "    </tr>\n",
              "    <tr>\n",
              "      <th>All</th>\n",
              "      <td>15951730</td>\n",
              "      <td>135</td>\n",
              "      <td>15951865</td>\n",
              "    </tr>\n",
              "  </tbody>\n",
              "</table>\n",
              "</div>"
            ],
            "text/plain": [
              "jc_Predicted         0    1       All\n",
              "Actual                               \n",
              "0             15951595  135  15951730\n",
              "1                  135    0       135\n",
              "All           15951730  135  15951865"
            ]
          },
          "metadata": {
            "tags": []
          },
          "execution_count": 40
        }
      ]
    },
    {
      "cell_type": "code",
      "metadata": {
        "id": "B3WJ7-MWxdlq",
        "colab_type": "code",
        "outputId": "0c0d1d9e-feb0-4f1e-e28d-c942bbbb7e9c",
        "colab": {
          "base_uri": "https://localhost:8080/",
          "height": 183
        }
      },
      "source": [
        "print(pa_acc)\n",
        "pa_confusion"
      ],
      "execution_count": 0,
      "outputs": [
        {
          "output_type": "stream",
          "text": [
            "0.9999835755881836\n"
          ],
          "name": "stdout"
        },
        {
          "output_type": "execute_result",
          "data": {
            "text/html": [
              "<div>\n",
              "<style scoped>\n",
              "    .dataframe tbody tr th:only-of-type {\n",
              "        vertical-align: middle;\n",
              "    }\n",
              "\n",
              "    .dataframe tbody tr th {\n",
              "        vertical-align: top;\n",
              "    }\n",
              "\n",
              "    .dataframe thead th {\n",
              "        text-align: right;\n",
              "    }\n",
              "</style>\n",
              "<table border=\"1\" class=\"dataframe\">\n",
              "  <thead>\n",
              "    <tr style=\"text-align: right;\">\n",
              "      <th>pa_Predicted</th>\n",
              "      <th>0</th>\n",
              "      <th>1</th>\n",
              "      <th>All</th>\n",
              "    </tr>\n",
              "    <tr>\n",
              "      <th>Actual</th>\n",
              "      <th></th>\n",
              "      <th></th>\n",
              "      <th></th>\n",
              "    </tr>\n",
              "  </thead>\n",
              "  <tbody>\n",
              "    <tr>\n",
              "      <th>0</th>\n",
              "      <td>15951599</td>\n",
              "      <td>131</td>\n",
              "      <td>15951730</td>\n",
              "    </tr>\n",
              "    <tr>\n",
              "      <th>1</th>\n",
              "      <td>131</td>\n",
              "      <td>4</td>\n",
              "      <td>135</td>\n",
              "    </tr>\n",
              "    <tr>\n",
              "      <th>All</th>\n",
              "      <td>15951730</td>\n",
              "      <td>135</td>\n",
              "      <td>15951865</td>\n",
              "    </tr>\n",
              "  </tbody>\n",
              "</table>\n",
              "</div>"
            ],
            "text/plain": [
              "pa_Predicted         0    1       All\n",
              "Actual                               \n",
              "0             15951599  131  15951730\n",
              "1                  131    4       135\n",
              "All           15951730  135  15951865"
            ]
          },
          "metadata": {
            "tags": []
          },
          "execution_count": 41
        }
      ]
    }
  ]
}